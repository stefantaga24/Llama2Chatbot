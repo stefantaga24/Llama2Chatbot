{
 "cells": [
  {
   "cell_type": "code",
   "execution_count": 1,
   "metadata": {},
   "outputs": [
    {
     "name": "stdout",
     "output_type": "stream",
     "text": [
      "hello\n"
     ]
    }
   ],
   "source": [
    "print(\"hello\")"
   ]
  },
  {
   "cell_type": "code",
   "execution_count": 14,
   "metadata": {},
   "outputs": [],
   "source": [
    "from langchain import PromptTemplate\n",
    "from langchain.chains import RetrievalQA\n",
    "from langchain.embeddings import HuggingFaceEmbeddings\n",
    "from langchain.vectorstores import Pinecone\n",
    "import pinecone\n",
    "from langchain.document_loaders import PyPDFLoader, DirectoryLoader\n",
    "from langchain.text_splitter import RecursiveCharacterTextSplitter\n",
    "from langchain.prompts import PromptTemplate\n",
    "from langchain.llms import CTransformers"
   ]
  },
  {
   "cell_type": "code",
   "execution_count": 32,
   "metadata": {},
   "outputs": [],
   "source": [
    "PINECONE_API_KEY = \"ed175737-4de6-42ef-be7e-64405fc5fbfd\"\n",
    "PINECONE_API_ENV = \"gcp-starter\""
   ]
  },
  {
   "cell_type": "code",
   "execution_count": 17,
   "metadata": {},
   "outputs": [],
   "source": [
    "#Extract data\n",
    "\n",
    "def load_pdf(data):\n",
    "    loader = DirectoryLoader(data,\n",
    "                             glob = \"*.pdf\",\n",
    "                             loader_cls = PyPDFLoader)\n",
    "    documents = loader.load()\n",
    "    return documents"
   ]
  },
  {
   "cell_type": "code",
   "execution_count": 18,
   "metadata": {},
   "outputs": [],
   "source": [
    "extracted_data = load_pdf(\"data/\")"
   ]
  },
  {
   "cell_type": "code",
   "execution_count": 19,
   "metadata": {},
   "outputs": [
    {
     "name": "stdout",
     "output_type": "stream",
     "text": [
      "[Document(page_content='Digital Logic Circuits\\nIntro to CAD and Verilog\\nCS-173 Fundamentals of Digital Systems\\nMirjana Stojilovi ć\\nMarch 2024', metadata={'source': 'data\\\\240325 CS-173 Digital logic.pdf', 'page': 0}), Document(page_content='Previously on FDS\\nTransistors, CMOS logic gates, \\nreal gate behavior, dynamic operation,\\ndynamic power dissipation\\n2 CS-173, © EPFL, Spring 2024', metadata={'source': 'data\\\\240325 CS-173 Digital logic.pdf', 'page': 1}), Document(page_content='3Previously\\n▪Discovered NMOS and PMOS transistors \\nfrom which real logic gates are built\\n•CMOS examples (NOT, NOR, NAND, AND)\\n▪Ideal vs. real gates\\n•On-resistance and gate capacitance\\n•Rise and fall times\\n•Fan-in and fan -out\\n•Propagation delays\\n▪Unexpected transitions (hazards)\\n▪Dynamic power consumption\\nCS-173, © EPFL, Spring 2024', metadata={'source': 'data\\\\240325 CS-173 Digital logic.pdf', 'page': 2}), Document(page_content='Let’s Talk About…\\n…Computer -Aided Design of logic circuits\\nand Hardware Design Languages\\n4 CS-173, © EPFL, Spring 2024', metadata={'source': 'data\\\\240325 CS-173 Digital logic.pdf', 'page': 3}), Document(page_content='5Learning Outcomes\\n▪Learn thebasic steps ofthecomputer -aided\\ndesign process forbuilding complex digital\\nlogic circuits\\n▪Getintroduced toVerilog hardware description languag e\\n▪Write apiece of Verilog code that models a logic circuit described\\nas a network of logic gates\\n•Structural (i.e., gate -level) modeling inVerilog\\n▪In Verilog, model a complex circuit by instantiating and connecting\\nsubcircuits also modeled in  Verilog\\nCS-173, © EPFL, Spring 2024', metadata={'source': 'data\\\\240325 CS-173 Digital logic.pdf', 'page': 4}), Document(page_content='Quick Outline\\n▪Computer -Aided Design Flow\\n•Design entry\\n•Schematic capture\\n•Hardware description language\\n•Logic synthesis\\n•Functional simulation\\n•Physical design\\n•Timing simulation\\n•Circuit implementation\\n▪Silicon wafe r\\n6 CS-173, © EPFL, Spring 2024▪Verilog HDL\\n•Brief histor y\\n•Structural modeling\\n•Name s\\n•Modules\\n•Ports\\n•Subcircuit s\\n•Examples: \\n•Full-adder\\n•Four -bitRipple -Carry Adder', metadata={'source': 'data\\\\240325 CS-173 Digital logic.pdf', 'page': 5}), Document(page_content='Computer -Aided Design\\nIntroduction\\n7 CS-173, © EPFL, Spring 2024\\n', metadata={'source': 'data\\\\240325 CS-173 Digital logic.pdf', 'page': 6}), Document(page_content='8CAD Design Flow\\nIntroduction to CAD Tools\\n▪Logic circuits found in today’s complex computing systems \\ncannot be designed manually\\n•Designers of logic circuits heavily rely on the availability of\\ncomputer -aided design (CAD) tools\\n▪CAD design flow:\\nCS-173, © EPFL, Spring 2024Design\\nEntryLogic\\nSynthesisFunctional \\nSimulationPhysical\\nDesignTiming \\nSimulationCircuit \\nImplementation\\nDesign \\nincorrect Timing requirements \\nnot metDesign \\nConception', metadata={'source': 'data\\\\240325 CS-173 Digital logic.pdf', 'page': 7}), Document(page_content='9Design Entry\\nIntroduction to CAD Tools\\n▪Design Entry\\n•The starting point in the process of designing a logic circuit\\n•The conception of what the circuit is supposed to do and \\nthe formulation of its general organization and structure\\n•Performed by the designers without the guidance of CAD tools; \\nrequires experience and intuition\\nCS-173, © EPFL, Spring 2024Design\\nEntryLogic\\nSynthesisFunctional \\nSimulationPhysical\\nDesignTiming \\nSimulationCircuit \\nImplementationDesign \\nConceptionFront -end tools', metadata={'source': 'data\\\\240325 CS-173 Digital logic.pdf', 'page': 8}), Document(page_content='10Design Entry, Contd.\\nIntroduction to CAD Tools\\n▪Approach 1: Schematic capture\\n•Drawing logic gates and interconnecting them with wires\\n•Schematic tools provide libraries of gates and other circuit components\\n•Hierarchical design\\n•Subcircuits previously created can be represented as graphical symbols\\nand included (reused) in the schematic\\nCS-173, © EPFL, Spring 2024Design\\nEntryLogic\\nSynthesisFunctional \\nSimulationPhysical\\nDesignTiming \\nSimulationCircuit \\nImplementationDesign \\nConceptionFront -end tools', metadata={'source': 'data\\\\240325 CS-173 Digital logic.pdf', 'page': 9}), Document(page_content='11Design Entry, Contd.\\nIntroduction to CAD Tools\\n▪Approach 2: Hardware Description Language (HDL)\\n•An HDL is similar to a typical computer programming language except \\nthat an HDL is used to describe hardware rather than a program\\nto be executed on a computer\\n▪Mainstream HDL languages supported by vendors of digital \\nhardware technology and officially endorsed as IEEE standards\\n•Verilog HDL (CS -173) and VHDL*\\nCS-173, © EPFL, Spring 2024Design\\nEntryLogic\\nSynthesisFunctional \\nSimulationPhysical\\nDesignTiming \\nSimulationCircuit \\nImplementationDesign \\nConception\\n[*] Very High Speed Integrated Circuit Hardware Description LanguageFront -end tools', metadata={'source': 'data\\\\240325 CS-173 Digital logic.pdf', 'page': 10}), Document(page_content='12HDL vs. Schematic Capture\\nIntroduction to CAD Tools\\n▪HDL vs. Schematic Capture\\n•HDLs supported by many companies: no need to change the design\\nfrom one company to another) →Easy portability \\n•Design entry means writing Verilog source code; the code is plain text, \\nmaking it easy to include it in the documentation to explain its \\nfunctionality →Easy sharing and reuse\\n•Similar to schematic capture, HDLs support hierarchical design\\n•HDL source can be combined with schematic capture (e.g., a subcircuit )\\nCS-173, © EPFL, Spring 2024Design\\nEntryLogic\\nSynthesisFunctional \\nSimulationPhysical\\nDesignTiming \\nSimulationCircuit \\nImplementationDesign \\nConceptionFront -end tools', metadata={'source': 'data\\\\240325 CS-173 Digital logic.pdf', 'page': 11}), Document(page_content='13Logic Synthesis\\nIntroduction to CAD Tools\\n▪Logic Synthesis\\n•Translating HDL code into a network of logic gates\\n•The output is the set of logic expressions describing the logic functions \\nthe circuit should realize\\n•Internally manipulates logic expressions to automatically generate\\nan equivalent but better circuit (e.g., faster, smaller, low power, etc.)\\nCS-173, © EPFL, Spring 2024Design\\nEntryLogic\\nSynthesisFunctional \\nSimulationPhysical\\nDesignTiming \\nSimulationCircuit \\nImplementationDesign \\nConceptionFront -end tools', metadata={'source': 'data\\\\240325 CS-173 Digital logic.pdf', 'page': 12}), Document(page_content='Front -end tools\\n14Functional Simulation\\nIntroduction to CAD Tools\\n▪Functional Simulation\\n•A circuit described in the form of logic functions can be simulated\\nto verify that it will work as expected\\n•Functional simulators assume the logic functions will be implemented \\nwith perfect gates (zero -delay model)\\n•For the sequence of inputs specified by the designers , \\nthe simulator evaluates the circuit outputs and produces the results \\n(e.g., timing waveforms ) to be analyzed by the designers\\nCS-173, © EPFL, Spring 2024Design\\nEntryLogic\\nSynthesisFunctional \\nSimulationPhysical\\nDesignTiming \\nSimulationCircuit \\nImplementationDesign \\nConception', metadata={'source': 'data\\\\240325 CS-173 Digital logic.pdf', 'page': 13}), Document(page_content='15Physical Design \\nIntroduction to CAD Tools\\n▪Physical Design\\n•Mapping acircuit described in the form of logic expressions into\\na realization that uses logic gates or other hardware components available\\n•Placement: Determine the absolute and relative location of \\nthe hardware components on the physical chip\\n•Routing: Determine the location and shape of the wiring connections\\nthat have to be made between the inputs and outputs of the hardware \\ncomponents to connect them appropriately\\nCS-173, © EPFL, Spring 2024Design\\nEntryLogic\\nSynthesisFunctional \\nSimulationPhysical\\nDesignTiming \\nSimulationCircuit \\nImplementationDesign \\nConceptionBack -end tools', metadata={'source': 'data\\\\240325 CS-173 Digital logic.pdf', 'page': 14}), Document(page_content='Back -end tools\\n16Timing Simulation \\nIntroduction to CAD Tools\\nCS-173, © EPFL, Spring 2024Design\\nEntryLogic\\nSynthesisFunctional \\nSimulationPhysical\\nDesignTiming \\nSimulationCircuit \\nImplementationDesign \\nConception\\n▪Timing Simulation\\n•Real circuits cannot perform their function with zero delay\\n•Logic propagation delay: Logic elements need time to generate a valid \\noutput whenever there are changes in the value of their inputs\\n•Wire propagation delay: signals propagating along real metal wires that \\nconnect various logic elements take some time to reach their destinations\\n•Timing simulators evaluate the expected circuit delays; then, the designers \\ncheck whether the circuit meets the goals (i.e., so -called timing constraints )', metadata={'source': 'data\\\\240325 CS-173 Digital logic.pdf', 'page': 15}), Document(page_content='17Circuit Implementation\\nIntroduction to CAD Tools\\nCS-173, © EPFL, Spring 2024Design\\nEntryLogic\\nSynthesisFunctional \\nSimulationPhysical\\nDesignTiming \\nSimulationCircuit \\nImplementationDesign \\nConception\\n▪Circuit Implementation\\n•Having ascertained that the circuit meets all desired requirements, \\nthe circuit is ready to be implemented on an actual chip\\n•Options ahead\\n•Chip fabrication ([+] highest performance, [ -] extremely expensive) or\\n•Chip configuration ([+] flexible, [+] affordable, [ -] lower performance) : \\nIf a programmable hardware device*is used as a baseline, then the desired logic \\nfunctionality can be implemented by simply reprogramming the device configurationBack -end tools\\n[*] Field -Programmable Gate Array (FPGA): Wiki link', metadata={'source': 'data\\\\240325 CS-173 Digital logic.pdf', 'page': 16}), Document(page_content='18 CS-173, © EPFL, Spring 2024\\nSilicon Wafer\\n…containing many identical copies of a chip, each made of millions or even billions of transistors\\nOnline reading for enthusiasts: Visit waferpro.com or Wiki', metadata={'source': 'data\\\\240325 CS-173 Digital logic.pdf', 'page': 17}), Document(page_content='CS-173, © EPFL, Spring 2024\\n 19', metadata={'source': 'data\\\\240325 CS-173 Digital logic.pdf', 'page': 18}), Document(page_content='Verilog HDL\\n•Introduction\\n•Structural modelin g\\n20 CS-173, © EPFL, Spring 2024\\n', metadata={'source': 'data\\\\240325 CS-173 Digital logic.pdf', 'page': 19}), Document(page_content='21Brief History of Verilog\\n▪HDLs were introduced in the mid -1980s as languages for \\ndescribing the behavior of a logic circuit\\n▪Verilog was invented by Phil Moorby and Prabhu Goel ~1984\\n•A proprietary language owned by Gateway Design Automation Inc. \\n•Extensively modified between 1984 and 1990\\n•In 1990, Gateway Design Automation Inc. was acquired by Cadence Design \\nSystems , one of the biggest suppliers of electronic design technologies\\n•Cadence recognized the value of Verilog and pushed for making it open\\n•IEEE standards followed ( Wiki )\\nCS-173, © EPFL, Spring 2024Source: realdigital.org', metadata={'source': 'data\\\\240325 CS-173 Digital logic.pdf', 'page': 20}), Document(page_content='22Modeling of Digital Circuits in Verilog\\n▪A logic circuit is specified in the form of a module\\n▪Option 1: Structural modeling\\n•Gate -level modeling: Using Verilog constructs to describe the structure\\nof the circuit in terms of circuit elements , such as logic gates\\n•A larger circuit is defined by writing code that instantiates and connects \\ncircuit elements\\n▪Option 2: Behavioral modeling\\n•Describe a circuit more abstractly, using logic expressions and Verilog \\nprogramming constructs to describe the desired circuit behavior ,\\nand not its structure in terms of gates\\nCS-173, © EPFL, Spring 2024', metadata={'source': 'data\\\\240325 CS-173 Digital logic.pdf', 'page': 21}), Document(page_content='Note 1: The square \\nbrackets indicate an \\noptional field\\nNote 2: Braces indicate \\nthat additional entries \\nare permitted\\n23Structural Modeling with Logic Gates\\nGate -Level Modeling\\n▪In structural modeling, predefined modules that implement\\nbasic logic gates are used\\n▪Logic gate instantiation statement:\\n▪Verilog built -in gates:\\n(incomplete list, for the moment)\\nCS-173, © EPFL, Spring 2024gate_name [instance_name ] (out_port ,  in_port {, in_port });\\nand xor\\nnand xnor\\nor buf\\nnor not', metadata={'source': 'data\\\\240325 CS-173 Digital logic.pdf', 'page': 22}), Document(page_content='24Structural Modeling with Logic Gates, Contd.\\nGate -Level Modeling\\n▪Recall logic gate instantiation statement:\\n▪Examples\\n•orOr1 (z, x1, x2, x3), xorXor5 (c, a, b)\\n•not(f, a), nand (g, d, b, w1, w3)\\nCS-173, © EPFL, Spring 2024gate_name [instance_name ](out_port , in_port {, in_port });Reserved\\nwordNames can be any valid identifiers\\nList of ports\\nInstance names can be omitted Mandatory ;Note 1: The square \\nbrackets indicate an \\noptional field\\nNote 2: Braces indicate \\nthat additional entries \\nare permitted', metadata={'source': 'data\\\\240325 CS-173 Digital logic.pdf', 'page': 23}), Document(page_content='25Verilog Syntax\\nIn a Nutshell\\n▪Names\\n•Must start with aletter\\n•Can contain any letter, number, “_” (underscore), or $\\n▪Verilog iscase sensitive\\n•s\\uf0b9S\\n•Example5 \\uf0b9example5\\n▪Syntax does not enforce aparticular style\\n•White space characters (i.e., space, TAB) and blank lines areignored\\n•Readability matters : Use indentation and blank lines\\n•Comments start with “//” (double slash)\\nCS-173, © EPFL, Spring 2024', metadata={'source': 'data\\\\240325 CS-173 Digital logic.pdf', 'page': 24}), Document(page_content='26Modules in Verilog\\nIntroduction\\n▪A circuit or subcircuit described with Verilog code is a module\\n▪Module has a name, inputs, and outputs, referred to as its ports\\nCS-173, © EPFL, Spring 2024module module_name [(port_name {, port_name })];\\n[input declarations]\\n[output declarations]\\n[wire declarations]\\n[logic gate instantiations]\\n[module instantiations]\\n// and many more\\nendmoduleNote 1: The square \\nbrackets indicate an \\noptional field\\nNote 2: Braces indicate \\nthat additional entries \\nare permitted\\nNote 3: In bold, reserved \\nwords (i.e., keywords)', metadata={'source': 'data\\\\240325 CS-173 Digital logic.pdf', 'page': 25}), Document(page_content='27Modules in Verilog\\nIntroduction\\n▪A circuit or subcircuit described with Verilog code is a module\\n▪Module has a name, inputs, and outputs, referred to as its ports\\nCS-173, © EPFL, Spring 2024module module_name [(port_name {, port_name })];\\n[input declarations]\\n[output declarations]\\n[wire declarations]\\n[gate instantiations]\\n[module instantiations]\\n// and many more\\nendmoduleReserved\\nkeywordsNames can be any valid identifiers\\nWire (net) declarations are often omitted .\\nVerilog assumes signals are nets \\nby default\\nAnything after //is a comment\\nand it gets ignoredList of ports\\nMandatory ;', metadata={'source': 'data\\\\240325 CS-173 Digital logic.pdf', 'page': 26}), Document(page_content='28Ports in Verilog\\n▪Ports are the primary ways to communicate with the module\\n▪Port directions\\n•input : input -only port, receives values from outside\\n•output : output -only port, sends values to the outside\\n•inout : bidirectional port, receives and sends values\\n▪Port declaration syntax:\\n▪Examples:\\n•input diff;                 // 1-bit input named diff, wire type\\n•inout [15:0] data;    // 16 -bit bidirectional vector named data , wire type\\n•output [3:0] f;           // 4-bit output named f, wire type\\nCS-173, © EPFL, Spring 2024port_direction data_type [port_size ]  port_name ;If not specified, implicitly assumes\\na wire or a bundle of wires (a vector)', metadata={'source': 'data\\\\240325 CS-173 Digital logic.pdf', 'page': 27}), Document(page_content='EXAMPLES\\n29Full-Adder in Verilog\\nStructural (gate -level) model\\n▪Algorithm\\n•Name your circuit (i.e., label it)\\n•That will be the name of your Verilog module\\n•Label all inputs and outputs\\n•Those will be the input and output\\nport names of your Verilog module\\n•Label all logic gates\\n•Those will be the names of your gate instances\\n•Same gate type can be instantiated multiple\\ntimes, provided the instance name is unique\\n•Label all internal nets (i.e., wires, signals)\\n•Those will be the names of the wires in your Verilog module\\nCS-173, © EPFL, Spring 2024\\nXor1\\nAnd1\\nAnd2\\nAnd3Or1w1\\nw2\\nw3fulladd', metadata={'source': 'data\\\\240325 CS-173 Digital logic.pdf', 'page': 28}), Document(page_content='EXAMPLES\\n30Full-Adder in Verilog\\nStructural (gate -level) model\\nCS-173, © EPFL, Spring 2024// Structural modeling of a full -adder\\nmodulefulladd (a, b, c_in, s, c_out);\\n// -----port definitions -----\\ninputa, b, c_in;\\noutputs, c_out;\\n// -----intermediate signals -----\\nwirew1, w2, w3;\\n// -----design implementation -----\\nand And1 (w1, a, b);\\nand And2 (w2, a, c_in);\\nand And3 (w3, b, c_in);\\nor  Or1 (c_out, w1, w2, w3);\\nxorXor1(s, a, b, c_in);\\nendmodule\\nXor1\\nAnd1\\nAnd2\\nAnd3Or1w1\\nw2\\nw3fulladd', metadata={'source': 'data\\\\240325 CS-173 Digital logic.pdf', 'page': 29}), Document(page_content='EXAMPLES\\n31Full-Adder in Verilog, Simplified\\nStructural model\\nCS-173, © EPFL, Spring 2024// Structural modeling of a full -adder\\n// Simplified version\\n// -No gate instance names\\n// -No wire declaration (i.e., implicit)\\nmodulefulladd (a, b, c_in, s, c_out);\\ninputa, b, c_in;\\noutputs, c_out;\\nand (w1, a, b);\\nand (w2, a, c_in);\\nand (w3, b, c_in);\\nor  (c_out, w1, w2, w3);\\nxor(s, a, b, c_in);\\nendmodule\\nXor1\\nAnd1\\nAnd2\\nAnd3Or1w1\\nw2\\nw3fulladd', metadata={'source': 'data\\\\240325 CS-173 Digital logic.pdf', 'page': 30}), Document(page_content='▪A Verilog module can be included as a subcircuit in another module\\n▪Modules should be defined in the same source file, in anyorder \\n(or the Verilog compiler must be told where each module is located)\\n▪Module instantiation statement:\\nmodule_name instance_name ( .port_name ([expression] ) { , . port_name ([expression]) } );\\n32Subcircuits in Verilog\\nCS-173, © EPFL, Spring 2024', metadata={'source': 'data\\\\240325 CS-173 Digital logic.pdf', 'page': 31}), Document(page_content='▪A Verilog module can be included as a subcircuit in another module\\n▪Modules should be defined in the same source file, in any order \\n(or the Verilog compiler must be told where each module is located)\\n▪Module instantiation statement:\\nmodule_name instance_name ( .port_name ([expression] ) { , . port_name ([expression]) } );\\n33Subcircuits in Verilog\\nCS-173, © EPFL, Spring 2024Names can be any valid\\nidentifiers Mandatory ;\\nThe list defines how subcircuit ports connect to the rest \\nof the module; if the ports are listed in the same order \\nas in the subcircuit , then . port_name can be omitted\\n(not advised, it is error -prone!)Name of a port \\nin the subcircuitSpecifies a connection \\nto that port', metadata={'source': 'data\\\\240325 CS-173 Digital logic.pdf', 'page': 32}), Document(page_content='EXAMPLES\\n34Four -bit Ripple -Carry Adder\\nVerilog\\n▪Recall the names of the ports\\nof the subcircuit and their \\ndirection (input, output)\\n▪Example full -adder instantiation:\\nCS-173, © EPFL, Spring 2024fulladd stage2(.c_in(C[2]), .a(A[2]), .b(B[2]), .s(S[2]), . c_out(C[3]));fulladd\\n▪Plan the structure of the bigger \\nmodule; give names to the ports \\nand decide how to connect them \\nto the subcircuits\\nFA\\n…adder4\\nPort b of fulladd connects to port B [2] of the larger modulestage i', metadata={'source': 'data\\\\240325 CS-173 Digital logic.pdf', 'page': 33}), Document(page_content='EXAMPLES\\n35Four -bit Ripple -Carry Adder\\nVerilog\\nCS-173, © EPFL, Spring 2024moduleadder4(Cin, A, B, S, Cout);\\n// -----port definitions -----\\ninputCin;        \\ninput[3:0] A, B; // 4-bit vectors\\noutput[3:0] S;    // 4-bit vector\\noutputCout;\\n// -----intermediate signals -----\\nwire[3:1] C;    // 3-bit vector\\n// -----design implementation -----\\nfulladd stage0(.c_in(Cin), .a(A[0]), .b(B[0]), .s(S[0]), . c_out(C[1]));\\nfulladd stage1(.c_in(C[1]), .a(A[1]), .b(B[1]), .s(S[1]), . c_out(C[2]));\\nfulladd stage2(.c_in(C[2]), .a(A[2]), .b(B[2]), .s(S[2]), . c_out(C[3]));\\nfulladd stage3(.c_in(C[3]), .a(A[3]), .b(B[3]), .s(S[3]), . c_out(Cout));\\nendmodule\\nFA\\n FA\\n FA\\nadder4', metadata={'source': 'data\\\\240325 CS-173 Digital logic.pdf', 'page': 34}), Document(page_content='CS-173, © EPFL, Spring 2024\\n 36', metadata={'source': 'data\\\\240325 CS-173 Digital logic.pdf', 'page': 35}), Document(page_content='37Literature\\nCS-173, © EPFL, Spring 2024▪Chapter 2: Introduction to Logic Circuits\\n▪2.9, 2.10.1▪Chapter 5: Verilog Hardware \\nDescription Language\\n▪5.7\\n', metadata={'source': 'data\\\\240325 CS-173 Digital logic.pdf', 'page': 36})]\n"
     ]
    }
   ],
   "source": [
    "print(extracted_data)"
   ]
  },
  {
   "cell_type": "code",
   "execution_count": 21,
   "metadata": {},
   "outputs": [],
   "source": [
    "#Create text chuncks\n",
    "\n",
    "def text_split(extracted_data):\n",
    "    splitter = RecursiveCharacterTextSplitter(chunk_size= 500 , chunk_overlap = 20)\n",
    "    text_chunks = splitter.split_documents(extracted_data) \n",
    "    return text_chunks"
   ]
  },
  {
   "cell_type": "code",
   "execution_count": 24,
   "metadata": {},
   "outputs": [
    {
     "name": "stdout",
     "output_type": "stream",
     "text": [
      "length of my chunk: 54\n"
     ]
    }
   ],
   "source": [
    "text_chunks = text_split(extracted_data)\n",
    "print(\"length of my chunk:\", len(text_chunks))"
   ]
  },
  {
   "cell_type": "code",
   "execution_count": 28,
   "metadata": {},
   "outputs": [],
   "source": [
    "#download embedding model\n",
    "\n",
    "def download_hugging_face_embeddings():\n",
    "    embeddings = HuggingFaceEmbeddings(model_name = \"sentence-transformers/all-MiniLM-L6-v2\")\n",
    "    return embeddings"
   ]
  },
  {
   "cell_type": "code",
   "execution_count": 29,
   "metadata": {},
   "outputs": [
    {
     "data": {
      "application/vnd.jupyter.widget-view+json": {
       "model_id": "457cc78af2c44fb8926f18894b1d3164",
       "version_major": 2,
       "version_minor": 0
      },
      "text/plain": [
       "modules.json:   0%|          | 0.00/349 [00:00<?, ?B/s]"
      ]
     },
     "metadata": {},
     "output_type": "display_data"
    },
    {
     "name": "stderr",
     "output_type": "stream",
     "text": [
      "C:\\Users\\stefa\\anaconda3\\envs\\testingopenai\\lib\\site-packages\\huggingface_hub\\file_download.py:149: UserWarning: `huggingface_hub` cache-system uses symlinks by default to efficiently store duplicated files but your machine does not support them in C:\\Users\\stefa\\.cache\\huggingface\\hub\\models--sentence-transformers--all-MiniLM-L6-v2. Caching files will still work but in a degraded version that might require more space on your disk. This warning can be disabled by setting the `HF_HUB_DISABLE_SYMLINKS_WARNING` environment variable. For more details, see https://huggingface.co/docs/huggingface_hub/how-to-cache#limitations.\n",
      "To support symlinks on Windows, you either need to activate Developer Mode or to run Python as an administrator. In order to see activate developer mode, see this article: https://docs.microsoft.com/en-us/windows/apps/get-started/enable-your-device-for-development\n",
      "  warnings.warn(message)\n"
     ]
    },
    {
     "data": {
      "application/vnd.jupyter.widget-view+json": {
       "model_id": "8d35b79fed1c418594266d47c1a71b14",
       "version_major": 2,
       "version_minor": 0
      },
      "text/plain": [
       "config_sentence_transformers.json:   0%|          | 0.00/116 [00:00<?, ?B/s]"
      ]
     },
     "metadata": {},
     "output_type": "display_data"
    },
    {
     "data": {
      "application/vnd.jupyter.widget-view+json": {
       "model_id": "0e5f8381382846dc9050d8b68f24e4aa",
       "version_major": 2,
       "version_minor": 0
      },
      "text/plain": [
       "README.md:   0%|          | 0.00/10.7k [00:00<?, ?B/s]"
      ]
     },
     "metadata": {},
     "output_type": "display_data"
    },
    {
     "data": {
      "application/vnd.jupyter.widget-view+json": {
       "model_id": "0734528ca3ee46248550d4add9c299d6",
       "version_major": 2,
       "version_minor": 0
      },
      "text/plain": [
       "sentence_bert_config.json:   0%|          | 0.00/53.0 [00:00<?, ?B/s]"
      ]
     },
     "metadata": {},
     "output_type": "display_data"
    },
    {
     "data": {
      "application/vnd.jupyter.widget-view+json": {
       "model_id": "d8a48b6cba514f99b0b38c7f495c206c",
       "version_major": 2,
       "version_minor": 0
      },
      "text/plain": [
       "config.json:   0%|          | 0.00/612 [00:00<?, ?B/s]"
      ]
     },
     "metadata": {},
     "output_type": "display_data"
    },
    {
     "data": {
      "application/vnd.jupyter.widget-view+json": {
       "model_id": "91324b62385e40fc8793d81092757b84",
       "version_major": 2,
       "version_minor": 0
      },
      "text/plain": [
       "model.safetensors:   0%|          | 0.00/90.9M [00:00<?, ?B/s]"
      ]
     },
     "metadata": {},
     "output_type": "display_data"
    },
    {
     "data": {
      "application/vnd.jupyter.widget-view+json": {
       "model_id": "c4c78fb73dc14121a113c2391479ac86",
       "version_major": 2,
       "version_minor": 0
      },
      "text/plain": [
       "tokenizer_config.json:   0%|          | 0.00/350 [00:00<?, ?B/s]"
      ]
     },
     "metadata": {},
     "output_type": "display_data"
    },
    {
     "data": {
      "application/vnd.jupyter.widget-view+json": {
       "model_id": "d61083cc96014e55804152ee46801886",
       "version_major": 2,
       "version_minor": 0
      },
      "text/plain": [
       "vocab.txt:   0%|          | 0.00/232k [00:00<?, ?B/s]"
      ]
     },
     "metadata": {},
     "output_type": "display_data"
    },
    {
     "data": {
      "application/vnd.jupyter.widget-view+json": {
       "model_id": "2ac2df1c51734058b31530e711b84f9a",
       "version_major": 2,
       "version_minor": 0
      },
      "text/plain": [
       "tokenizer.json:   0%|          | 0.00/466k [00:00<?, ?B/s]"
      ]
     },
     "metadata": {},
     "output_type": "display_data"
    },
    {
     "data": {
      "application/vnd.jupyter.widget-view+json": {
       "model_id": "f5365b807adf4aada1657bace40a8906",
       "version_major": 2,
       "version_minor": 0
      },
      "text/plain": [
       "special_tokens_map.json:   0%|          | 0.00/112 [00:00<?, ?B/s]"
      ]
     },
     "metadata": {},
     "output_type": "display_data"
    },
    {
     "data": {
      "application/vnd.jupyter.widget-view+json": {
       "model_id": "8b36c4e58127423c9c1df0ad2f75f0f7",
       "version_major": 2,
       "version_minor": 0
      },
      "text/plain": [
       "1_Pooling/config.json:   0%|          | 0.00/190 [00:00<?, ?B/s]"
      ]
     },
     "metadata": {},
     "output_type": "display_data"
    }
   ],
   "source": [
    "embeddings = download_hugging_face_embeddings()"
   ]
  },
  {
   "cell_type": "code",
   "execution_count": 27,
   "metadata": {},
   "outputs": [
    {
     "name": "stdout",
     "output_type": "stream",
     "text": [
      "Collecting sentence-transformers\n",
      "  Downloading sentence_transformers-2.6.1-py3-none-any.whl.metadata (11 kB)\n",
      "Requirement already satisfied: transformers<5.0.0,>=4.32.0 in c:\\users\\stefa\\anaconda3\\envs\\testingopenai\\lib\\site-packages (from sentence-transformers) (4.38.2)\n",
      "Requirement already satisfied: tqdm in c:\\users\\stefa\\anaconda3\\envs\\testingopenai\\lib\\site-packages (from sentence-transformers) (4.66.2)\n",
      "Requirement already satisfied: torch>=1.11.0 in c:\\users\\stefa\\anaconda3\\envs\\testingopenai\\lib\\site-packages (from sentence-transformers) (2.2.1)\n",
      "Requirement already satisfied: numpy in c:\\users\\stefa\\anaconda3\\envs\\testingopenai\\lib\\site-packages (from sentence-transformers) (1.23.4)\n",
      "Collecting scikit-learn (from sentence-transformers)\n",
      "  Using cached scikit_learn-1.3.2-cp38-cp38-win_amd64.whl.metadata (11 kB)\n",
      "Collecting scipy (from sentence-transformers)\n",
      "  Using cached scipy-1.10.1-cp38-cp38-win_amd64.whl.metadata (58 kB)\n",
      "Requirement already satisfied: huggingface-hub>=0.15.1 in c:\\users\\stefa\\anaconda3\\envs\\testingopenai\\lib\\site-packages (from sentence-transformers) (0.21.4)\n",
      "Collecting Pillow (from sentence-transformers)\n",
      "  Using cached pillow-10.2.0-cp38-cp38-win_amd64.whl.metadata (9.9 kB)\n",
      "Requirement already satisfied: filelock in c:\\users\\stefa\\anaconda3\\envs\\testingopenai\\lib\\site-packages (from huggingface-hub>=0.15.1->sentence-transformers) (3.13.1)\n",
      "Requirement already satisfied: fsspec>=2023.5.0 in c:\\users\\stefa\\anaconda3\\envs\\testingopenai\\lib\\site-packages (from huggingface-hub>=0.15.1->sentence-transformers) (2024.2.0)\n",
      "Requirement already satisfied: requests in c:\\users\\stefa\\anaconda3\\envs\\testingopenai\\lib\\site-packages (from huggingface-hub>=0.15.1->sentence-transformers) (2.31.0)\n",
      "Requirement already satisfied: pyyaml>=5.1 in c:\\users\\stefa\\anaconda3\\envs\\testingopenai\\lib\\site-packages (from huggingface-hub>=0.15.1->sentence-transformers) (6.0.1)\n",
      "Requirement already satisfied: typing-extensions>=3.7.4.3 in c:\\users\\stefa\\anaconda3\\envs\\testingopenai\\lib\\site-packages (from huggingface-hub>=0.15.1->sentence-transformers) (4.10.0)\n",
      "Requirement already satisfied: packaging>=20.9 in c:\\users\\stefa\\anaconda3\\envs\\testingopenai\\lib\\site-packages (from huggingface-hub>=0.15.1->sentence-transformers) (23.2)\n",
      "Requirement already satisfied: sympy in c:\\users\\stefa\\anaconda3\\envs\\testingopenai\\lib\\site-packages (from torch>=1.11.0->sentence-transformers) (1.12)\n",
      "Requirement already satisfied: networkx in c:\\users\\stefa\\anaconda3\\envs\\testingopenai\\lib\\site-packages (from torch>=1.11.0->sentence-transformers) (3.1)\n",
      "Requirement already satisfied: jinja2 in c:\\users\\stefa\\anaconda3\\envs\\testingopenai\\lib\\site-packages (from torch>=1.11.0->sentence-transformers) (3.1.3)\n",
      "Requirement already satisfied: colorama in c:\\users\\stefa\\anaconda3\\envs\\testingopenai\\lib\\site-packages (from tqdm->sentence-transformers) (0.4.6)\n",
      "Requirement already satisfied: regex!=2019.12.17 in c:\\users\\stefa\\anaconda3\\envs\\testingopenai\\lib\\site-packages (from transformers<5.0.0,>=4.32.0->sentence-transformers) (2023.12.25)\n",
      "Requirement already satisfied: tokenizers<0.19,>=0.14 in c:\\users\\stefa\\anaconda3\\envs\\testingopenai\\lib\\site-packages (from transformers<5.0.0,>=4.32.0->sentence-transformers) (0.15.2)\n",
      "Requirement already satisfied: safetensors>=0.4.1 in c:\\users\\stefa\\anaconda3\\envs\\testingopenai\\lib\\site-packages (from transformers<5.0.0,>=4.32.0->sentence-transformers) (0.4.2)\n",
      "Collecting joblib>=1.1.1 (from scikit-learn->sentence-transformers)\n",
      "  Using cached joblib-1.3.2-py3-none-any.whl.metadata (5.4 kB)\n",
      "Collecting threadpoolctl>=2.0.0 (from scikit-learn->sentence-transformers)\n",
      "  Using cached threadpoolctl-3.4.0-py3-none-any.whl.metadata (13 kB)\n",
      "Requirement already satisfied: MarkupSafe>=2.0 in c:\\users\\stefa\\anaconda3\\envs\\testingopenai\\lib\\site-packages (from jinja2->torch>=1.11.0->sentence-transformers) (2.1.5)\n",
      "Requirement already satisfied: charset-normalizer<4,>=2 in c:\\users\\stefa\\anaconda3\\envs\\testingopenai\\lib\\site-packages (from requests->huggingface-hub>=0.15.1->sentence-transformers) (3.3.2)\n",
      "Requirement already satisfied: idna<4,>=2.5 in c:\\users\\stefa\\anaconda3\\envs\\testingopenai\\lib\\site-packages (from requests->huggingface-hub>=0.15.1->sentence-transformers) (3.6)\n",
      "Requirement already satisfied: urllib3<3,>=1.21.1 in c:\\users\\stefa\\anaconda3\\envs\\testingopenai\\lib\\site-packages (from requests->huggingface-hub>=0.15.1->sentence-transformers) (2.2.1)\n",
      "Requirement already satisfied: certifi>=2017.4.17 in c:\\users\\stefa\\anaconda3\\envs\\testingopenai\\lib\\site-packages (from requests->huggingface-hub>=0.15.1->sentence-transformers) (2024.2.2)\n",
      "Requirement already satisfied: mpmath>=0.19 in c:\\users\\stefa\\anaconda3\\envs\\testingopenai\\lib\\site-packages (from sympy->torch>=1.11.0->sentence-transformers) (1.3.0)\n",
      "Downloading sentence_transformers-2.6.1-py3-none-any.whl (163 kB)\n",
      "   ---------------------------------------- 0.0/163.3 kB ? eta -:--:--\n",
      "   ------- ------------------------------- 30.7/163.3 kB 435.7 kB/s eta 0:00:01\n",
      "   ---------------------------------------- 163.3/163.3 kB 1.6 MB/s eta 0:00:00\n",
      "Using cached pillow-10.2.0-cp38-cp38-win_amd64.whl (2.6 MB)\n",
      "Using cached scikit_learn-1.3.2-cp38-cp38-win_amd64.whl (9.3 MB)\n",
      "Using cached scipy-1.10.1-cp38-cp38-win_amd64.whl (42.2 MB)\n",
      "Using cached joblib-1.3.2-py3-none-any.whl (302 kB)\n",
      "Using cached threadpoolctl-3.4.0-py3-none-any.whl (17 kB)\n",
      "Installing collected packages: threadpoolctl, scipy, Pillow, joblib, scikit-learn, sentence-transformers\n",
      "Successfully installed Pillow-10.2.0 joblib-1.3.2 scikit-learn-1.3.2 scipy-1.10.1 sentence-transformers-2.6.1 threadpoolctl-3.4.0\n"
     ]
    }
   ],
   "source": [
    "!pip install sentence-transformers"
   ]
  },
  {
   "cell_type": "code",
   "execution_count": 34,
   "metadata": {},
   "outputs": [],
   "source": [
    "import langchain_pinecone \n",
    "from pinecone import Pinecone, ServerlessSpec, PodSpec\n",
    "import time\n",
    "\n",
    "# configure client\n",
    "pc = Pinecone(api_key= PINECONE_API_KEY)"
   ]
  },
  {
   "cell_type": "code",
   "execution_count": 37,
   "metadata": {},
   "outputs": [],
   "source": [
    "import pinecone\n",
    "import os\n",
    "from langchain.vectorstores import Pinecone\n",
    "os.environ['PINECONE_API_KEY'] = PINECONE_API_KEY\n",
    "pc = pinecone.Pinecone(api_key = PINECONE_API_KEY , environment = PINECONE_API_ENV)"
   ]
  },
  {
   "cell_type": "code",
   "execution_count": 40,
   "metadata": {},
   "outputs": [],
   "source": [
    "index_name = \"medicalchatbot\"\n",
    "docsearch = Pinecone.from_texts([t.page_content for t in text_chunks] , embeddings, index_name = index_name)"
   ]
  },
  {
   "cell_type": "code",
   "execution_count": 41,
   "metadata": {},
   "outputs": [],
   "source": [
    "prompt_template=\"\"\"\n",
    "Use the following pieces of information to answer the user's question.\n",
    "If you don't know the answer, just say that you don't know, don't try to make up an answer.\n",
    "\n",
    "Context: {context}\n",
    "Question: {question}\n",
    "\n",
    "Only return the helpful answer below and nothing else.\n",
    "Helpful answer:\n",
    "\"\"\""
   ]
  },
  {
   "cell_type": "code",
   "execution_count": 42,
   "metadata": {},
   "outputs": [],
   "source": [
    "PROMPT=PromptTemplate(template=prompt_template, input_variables=[\"context\", \"question\"])\n",
    "chain_type_kwargs={\"prompt\": PROMPT}"
   ]
  },
  {
   "cell_type": "code",
   "execution_count": 44,
   "metadata": {},
   "outputs": [
    {
     "name": "stdout",
     "output_type": "stream",
     "text": [
      "Collecting ctransformers\n",
      "  Downloading ctransformers-0.2.27-py3-none-any.whl.metadata (17 kB)\n",
      "Requirement already satisfied: huggingface-hub in c:\\users\\stefa\\anaconda3\\envs\\testingopenai\\lib\\site-packages (from ctransformers) (0.21.4)\n",
      "Collecting py-cpuinfo<10.0.0,>=9.0.0 (from ctransformers)\n",
      "  Downloading py_cpuinfo-9.0.0-py3-none-any.whl.metadata (794 bytes)\n",
      "Requirement already satisfied: filelock in c:\\users\\stefa\\anaconda3\\envs\\testingopenai\\lib\\site-packages (from huggingface-hub->ctransformers) (3.13.1)\n",
      "Requirement already satisfied: fsspec>=2023.5.0 in c:\\users\\stefa\\anaconda3\\envs\\testingopenai\\lib\\site-packages (from huggingface-hub->ctransformers) (2024.2.0)\n",
      "Requirement already satisfied: requests in c:\\users\\stefa\\anaconda3\\envs\\testingopenai\\lib\\site-packages (from huggingface-hub->ctransformers) (2.31.0)\n",
      "Requirement already satisfied: tqdm>=4.42.1 in c:\\users\\stefa\\anaconda3\\envs\\testingopenai\\lib\\site-packages (from huggingface-hub->ctransformers) (4.66.2)\n",
      "Requirement already satisfied: pyyaml>=5.1 in c:\\users\\stefa\\anaconda3\\envs\\testingopenai\\lib\\site-packages (from huggingface-hub->ctransformers) (6.0.1)\n",
      "Requirement already satisfied: typing-extensions>=3.7.4.3 in c:\\users\\stefa\\anaconda3\\envs\\testingopenai\\lib\\site-packages (from huggingface-hub->ctransformers) (4.10.0)\n",
      "Requirement already satisfied: packaging>=20.9 in c:\\users\\stefa\\anaconda3\\envs\\testingopenai\\lib\\site-packages (from huggingface-hub->ctransformers) (23.2)\n",
      "Requirement already satisfied: colorama in c:\\users\\stefa\\anaconda3\\envs\\testingopenai\\lib\\site-packages (from tqdm>=4.42.1->huggingface-hub->ctransformers) (0.4.6)\n",
      "Requirement already satisfied: charset-normalizer<4,>=2 in c:\\users\\stefa\\anaconda3\\envs\\testingopenai\\lib\\site-packages (from requests->huggingface-hub->ctransformers) (3.3.2)\n",
      "Requirement already satisfied: idna<4,>=2.5 in c:\\users\\stefa\\anaconda3\\envs\\testingopenai\\lib\\site-packages (from requests->huggingface-hub->ctransformers) (3.6)\n",
      "Requirement already satisfied: urllib3<3,>=1.21.1 in c:\\users\\stefa\\anaconda3\\envs\\testingopenai\\lib\\site-packages (from requests->huggingface-hub->ctransformers) (2.2.1)\n",
      "Requirement already satisfied: certifi>=2017.4.17 in c:\\users\\stefa\\anaconda3\\envs\\testingopenai\\lib\\site-packages (from requests->huggingface-hub->ctransformers) (2024.2.2)\n",
      "Downloading ctransformers-0.2.27-py3-none-any.whl (9.9 MB)\n",
      "   ---------------------------------------- 0.0/9.9 MB ? eta -:--:--\n",
      "   ---------------------------------------- 0.0/9.9 MB 660.6 kB/s eta 0:00:15\n",
      "    --------------------------------------- 0.2/9.9 MB 2.5 MB/s eta 0:00:04\n",
      "   -- ------------------------------------- 0.7/9.9 MB 5.6 MB/s eta 0:00:02\n",
      "   ---------- ----------------------------- 2.7/9.9 MB 15.5 MB/s eta 0:00:01\n",
      "   --------------------------- ------------ 6.9/9.9 MB 31.5 MB/s eta 0:00:01\n",
      "   ---------------------------------------- 9.9/9.9 MB 37.1 MB/s eta 0:00:00\n",
      "Downloading py_cpuinfo-9.0.0-py3-none-any.whl (22 kB)\n",
      "Installing collected packages: py-cpuinfo, ctransformers\n",
      "Successfully installed ctransformers-0.2.27 py-cpuinfo-9.0.0\n"
     ]
    }
   ],
   "source": [
    "!pip install ctransformers"
   ]
  },
  {
   "cell_type": "code",
   "execution_count": 45,
   "metadata": {},
   "outputs": [],
   "source": [
    "\n",
    "llm=CTransformers(model=\"llama-2-7b-chat.ggmlv3.q4_0.bin\",\n",
    "                  model_type=\"llama\",\n",
    "                  config={'max_new_tokens':512,\n",
    "                          'temperature':0.8})"
   ]
  },
  {
   "cell_type": "code",
   "execution_count": 47,
   "metadata": {},
   "outputs": [],
   "source": [
    "\n",
    "qa=RetrievalQA.from_chain_type(\n",
    "    llm=llm, \n",
    "    chain_type=\"stuff\", \n",
    "    retriever=docsearch.as_retriever(search_kwargs={'k': 2}),\n",
    "    return_source_documents=True, \n",
    "    chain_type_kwargs=chain_type_kwargs)"
   ]
  }
 ],
 "metadata": {
  "kernelspec": {
   "display_name": "Python 3 (ipykernel)",
   "language": "python",
   "name": "python3"
  },
  "language_info": {
   "codemirror_mode": {
    "name": "ipython",
    "version": 3
   },
   "file_extension": ".py",
   "mimetype": "text/x-python",
   "name": "python",
   "nbconvert_exporter": "python",
   "pygments_lexer": "ipython3",
   "version": "3.11.8"
  }
 },
 "nbformat": 4,
 "nbformat_minor": 4
}
